{
  "metadata": {
    "kernelspec": {
      "name": "python",
      "display_name": "Pyolite",
      "language": "python"
    },
    "language_info": {
      "codemirror_mode": {
        "name": "python",
        "version": 3
      },
      "file_extension": ".py",
      "mimetype": "text/x-python",
      "name": "python",
      "nbconvert_exporter": "python",
      "pygments_lexer": "ipython3",
      "version": "3.8"
    }
  },
  "nbformat_minor": 4,
  "nbformat": 4,
  "cells": [
    {
      "cell_type": "markdown",
      "source": "<center>\n    <img src=\"https://s3-api.us-geo.objectstorage.softlayer.net/cf-courses-data/CognitiveClass/Logos/organization_logo/organization_logo.png\" width=\"300\" alt=\"cognitiveclass.ai logo\"  />\n</center>\n",
      "metadata": {}
    },
    {
      "cell_type": "markdown",
      "source": "#### Add your code below following the instructions given in the course\n",
      "metadata": {}
    },
    {
      "cell_type": "markdown",
      "source": "My Jupyter Notebook on IBM Watson Studio\n======",
      "metadata": {}
    },
    {
      "cell_type": "markdown",
      "source": "**ESTEBAN J. CHINNI**\n\nFuture Supply Chain data scientist",
      "metadata": {}
    },
    {
      "cell_type": "markdown",
      "source": "*Data Science  will bring me much more analysis capabilities on Supply Chain, such as better sales forecast, more predictability on product arrival, inventory turns, inventory scrap, customer logistics cost vs sales.... among other topics*",
      "metadata": {}
    },
    {
      "cell_type": "markdown",
      "source": "### This program finds the area of a triangle ",
      "metadata": {}
    },
    {
      "cell_type": "code",
      "source": "#change the below value according to your preference \n\na = 10\nb = 10\nc = 10\n\n# Uncomment below to take inputs from the user\n# a = float(input('Enter first side: '))\n# b = float(input('Enter second side: '))\n# c = float(input('Enter third side: '))\n\n# calculate the semi-perimeter\ns = (a + b + c) / 2\n\n# calculate the area\narea = (s*(s-a)*(s-b)*(s-c)) ** 0.5\nprint('The area of the triangle is %0.2f' %area)",
      "metadata": {
        "trusted": true
      },
      "execution_count": 10,
      "outputs": [
        {
          "name": "stdout",
          "text": "The area of the triangle is 43.30\n",
          "output_type": "stream"
        }
      ]
    },
    {
      "cell_type": "markdown",
      "source": "CELL 6 EXCERCISE: bellow you can see 1) an image 2) a link 3) a table  \n\n\n**Vamos Argentina!!!** ![alt text](https://www.planetafutbol.com/wordpress/wp-content/uploads/LIONEL-MESSI-POR-FIN-FOTO-1.jpg \"Logo Title Text 1\")",
      "metadata": {}
    },
    {
      "cell_type": "markdown",
      "source": "[CLICK HERE TO ACCESS TO FIFA WORLD CUP official site](https://www.fifa.com/fifaplus/en/tournaments/mens/worldcup/qatar2022)",
      "metadata": {}
    },
    {
      "cell_type": "markdown",
      "source": "My | Table | Here\n--- | --- | ---\n*How* | `are` | **you**\nhope | doing | well",
      "metadata": {}
    },
    {
      "cell_type": "code",
      "source": "",
      "metadata": {},
      "execution_count": null,
      "outputs": []
    }
  ]
}